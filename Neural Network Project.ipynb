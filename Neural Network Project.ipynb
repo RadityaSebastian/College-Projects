{
 "cells": [
  {
   "cell_type": "markdown",
   "id": "df99c018",
   "metadata": {},
   "source": [
    "### Nama: Raditya Sebastian\n",
    "### NIM: 1306620042\n",
    "### Kelas: Fisika A 2020"
   ]
  },
  {
   "cell_type": "code",
   "execution_count": 98,
   "id": "534b72b4",
   "metadata": {},
   "outputs": [],
   "source": [
    "import numpy as np\n",
    "import pandas as pd\n",
    "import matplotlib.pyplot as plt\n",
    "import networkx as nx"
   ]
  },
  {
   "cell_type": "markdown",
   "id": "0d056c0a",
   "metadata": {},
   "source": [
    "### Persamaan yang digunakan untuk menyelesaikan No 1"
   ]
  },
  {
   "cell_type": "markdown",
   "id": "62845ac7",
   "metadata": {},
   "source": [
    "$x_1,x_2 = input = 1,2$<br>\n",
    "$weightnya = w_{ij} =0.2$<br>\n",
    "$biasnya = x_0 = a_0 = 1$<br>\n",
    "seperti dendrit inputnya dimasukan ke neron(layer) sehingga menghasilkan rumus berikut:<br>\n",
    "$h_1(x) =wx_1+wx_2+x_0$ <br>\n",
    "$h_2(x) =wx_1+wx_2+x_0$ <br>\n",
    "$h_3(x) =wx_1+wx_2+x_0$ <br>\n",
    "dimana ${h_1,h_2,h_3}$ adalah hidden layer.<br>\n",
    "selanjutnya masukan hasil dari tiga hidden layer itu kedalam aktifasi fungsi dan aktifasi fungsi yang digunakan untuk ini adalah RELU.<br>\n",
    "$f(x)=maximum(0,x)$<br>\n",
    "jadi,<br>\n",
    "$f_1(x)=maximum(0,h_1(x))$<br>\n",
    "$f_2(x)=maximum(0,h_2(x))$<br>\n",
    "$f_3(x)=maximum(0,h_3(x))$<br>\n",
    "dan terakhir hasil itu semua digabung untuk mendapatkan y<br>\n",
    "$y =f_1(x)w+f_2(x)w+f_3(x)w+a_0$"
   ]
  },
  {
   "cell_type": "code",
   "execution_count": 99,
   "id": "35b8a26d",
   "metadata": {},
   "outputs": [
    {
     "name": "stdout",
     "output_type": "stream",
     "text": [
      "[1.6 1.6 1.6]\n"
     ]
    }
   ],
   "source": [
    "inputs = [1.0,2.0]\n",
    "weights = [[0.2,0.2],[0.2,0.2],[0.2,0.2]]\n",
    "\n",
    "bias = [1.0,1.0,1.0]\n",
    "#bias1 = 1.0\n",
    "#bias2 = 1.0\n",
    "#bias3 = 1.0\n",
    "output = np.dot(weights,inputs)+bias\n",
    "#layer 1\n",
    "print(output)"
   ]
  },
  {
   "cell_type": "markdown",
   "id": "0ba17a6e",
   "metadata": {},
   "source": [
    "selanjutnya saya menggunakan RELU sebagai fungsi aktifasi. RELU secara singkat adalah sebuah fungsi yang memulai linearitas pada 0 sehingga tidak menyetuh wilayah negatif. tujuan ini itu untuk menghilangkan vansihing gradient.<br>\n",
    "vanishing gradient adalah sebuah kejadian dimana sebuah aktifasi fungsi bingung dalam mengkategorisasikan kelas ini terjadi karena:<br>\n",
    "<ol>data satu dengan yang lain overlap</ol>\n",
    "<ol>nilai data membuat susah model mengkategorisasikan kelas data tersebut</ol>"
   ]
  },
  {
   "cell_type": "code",
   "execution_count": 100,
   "id": "6001832f",
   "metadata": {},
   "outputs": [],
   "source": [
    "def RELU(x):\n",
    "    return np.maximum(0, x)"
   ]
  },
  {
   "cell_type": "code",
   "execution_count": 101,
   "id": "f8233a9f",
   "metadata": {},
   "outputs": [
    {
     "data": {
      "text/plain": [
       "array([1.6, 1.6, 1.6])"
      ]
     },
     "execution_count": 101,
     "metadata": {},
     "output_type": "execute_result"
    }
   ],
   "source": [
    "#layer 2\n",
    "new_output = RELU(output)\n",
    "new_output"
   ]
  },
  {
   "cell_type": "code",
   "execution_count": 102,
   "id": "e6476059",
   "metadata": {},
   "outputs": [
    {
     "name": "stdout",
     "output_type": "stream",
     "text": [
      "1.9600000000000002\n"
     ]
    }
   ],
   "source": [
    "\n",
    "y_pred_weight = 0.2\n",
    "y_pred = new_output[0]*y_pred_weight+ new_output[1]*y_pred_weight + new_output[2]*y_pred_weight + bias[0]\n",
    "print((y_pred))"
   ]
  },
  {
   "cell_type": "markdown",
   "id": "2526c604",
   "metadata": {},
   "source": [
    "## NO. 2"
   ]
  },
  {
   "cell_type": "markdown",
   "id": "a3b4020d",
   "metadata": {},
   "source": [
    "Gambar Artificial Neural Networknya sebagai berikut:"
   ]
  },
  {
   "cell_type": "code",
   "execution_count": 103,
   "id": "03252341",
   "metadata": {},
   "outputs": [
    {
     "data": {
      "image/png": "[encoded data removed]",
      "text/plain": [
       "<Figure size 432x288 with 1 Axes>"
      ]
     },
     "metadata": {},
     "output_type": "display_data"
    }
   ],
   "source": [
    "#np.random.seed(0)\n",
    "G = nx.Graph()\n",
    "G.add_node('$x_0$')\n",
    "G.add_node('$x_1$')\n",
    "G.add_node('$x_2$')\n",
    "\n",
    "G.add_node('$g(x)$')\n",
    "\n",
    "G.add_node('$y$')\n",
    "\n",
    "G.add_edge('$x_0$','$g(x)$')\n",
    "G.add_edge('$x_1$','$g(x)$')\n",
    "G.add_edge('$x_2$','$g(x)$')\n",
    "\n",
    "\n",
    "G.add_edge('$g(x)$','$y$')\n",
    "\n",
    "pos={\n",
    "    '$x_0$':(1,1),\n",
    "    '$x_1$':(1,2),\n",
    "    '$x_2$':(1,3),\n",
    "    '$g(x)$':(2,2),\n",
    "    '$y$':(3,2)\n",
    "}\n",
    "nx.draw(G,pos,with_labels=True,node_size=1000)\n",
    "plt.show()"
   ]
  },
  {
   "cell_type": "markdown",
   "id": "c53a3379",
   "metadata": {},
   "source": [
    "selanjutnya saya membuat neural network secara basic"
   ]
  },
  {
   "cell_type": "code",
   "execution_count": 104,
   "id": "4934e28e",
   "metadata": {},
   "outputs": [],
   "source": [
    "x_1 = [0.0,0.0,1.0,1.0]\n",
    "x_2=[0.0,1.0,0.0,1.0]\n",
    "y =[0,0,0,1]\n",
    "x =[[0.0,0.0],\n",
    "    [0.1,1.0],\n",
    "    [1.0,0.0],\n",
    "    [1.0,1.0]]\n"
   ]
  },
  {
   "cell_type": "code",
   "execution_count": 105,
   "id": "cc192345",
   "metadata": {},
   "outputs": [
    {
     "data": {
      "text/plain": [
       "0.0"
      ]
     },
     "execution_count": 105,
     "metadata": {},
     "output_type": "execute_result"
    }
   ],
   "source": [
    "x_1_array = np.array(x_1)\n",
    "x_2_array = np.array(x_2)\n",
    "x_1_array[0]"
   ]
  },
  {
   "cell_type": "code",
   "execution_count": 106,
   "id": "7a1f8e04",
   "metadata": {},
   "outputs": [
    {
     "data": {
      "text/plain": [
       "[1.0, 1.5, 1.5, 2.0]"
      ]
     },
     "execution_count": 106,
     "metadata": {},
     "output_type": "execute_result"
    }
   ],
   "source": [
    "outputs =[]\n",
    "for i in range(len(x_1)):\n",
    "    xone = x_1_array[i]\n",
    "    xtwo = x_2_array[i]\n",
    "    output = xone*0.5 + xtwo*0.5+1\n",
    "    outputs.append(output)\n",
    "outputs"
   ]
  },
  {
   "cell_type": "markdown",
   "id": "1e6065d9",
   "metadata": {},
   "source": [
    "hasil di atas adalah hasil total input yang digabung dan dihitung seperti no 1 yang dimasukan pada layer g(x) yang akan dilakukan fungsi aktivasi sigmoid"
   ]
  },
  {
   "cell_type": "code",
   "execution_count": 107,
   "id": "36fce185",
   "metadata": {},
   "outputs": [],
   "source": [
    "def sigmoid(x):\n",
    "    return 1.0 / (1.0 + np.exp(-x))"
   ]
  },
  {
   "cell_type": "code",
   "execution_count": 108,
   "id": "5e066798",
   "metadata": {
    "scrolled": true
   },
   "outputs": [
    {
     "name": "stdout",
     "output_type": "stream",
     "text": [
      "0.7310585786300049\n",
      "0.8175744761936437\n",
      "0.8175744761936437\n",
      "0.8807970779778823\n"
     ]
    },
    {
     "data": {
      "text/plain": [
       "[1, 1, 1, 1]"
      ]
     },
     "execution_count": 108,
     "metadata": {},
     "output_type": "execute_result"
    }
   ],
   "source": [
    "new_outputs =[]\n",
    "for i in range(len(outputs)):   \n",
    "    new_output=sigmoid(outputs[i])\n",
    "    print(new_output)\n",
    "    if new_output > 0.5:\n",
    "        new_output = 1\n",
    "        new_outputs.append(new_output)\n",
    "    else:\n",
    "        new_output = 0\n",
    "        new_outputs.append(new_output)\n",
    "new_outputs"
   ]
  },
  {
   "cell_type": "markdown",
   "id": "5b225775",
   "metadata": {},
   "source": [
    "selanjutnya menglihat hasil akurasi dan errornya menggunakan MSE"
   ]
  },
  {
   "cell_type": "code",
   "execution_count": 109,
   "id": "545d5e2b",
   "metadata": {},
   "outputs": [],
   "source": [
    "def accuracy_metric(actual, predicted):\n",
    "    correct = 0\n",
    "    for i in range(len(actual)):\n",
    "        if actual[i] == predicted[i]:\n",
    "            correct += 1\n",
    "            return correct / float(len(actual)) * 100.0"
   ]
  },
  {
   "cell_type": "code",
   "execution_count": 110,
   "id": "c1ad7b7b",
   "metadata": {},
   "outputs": [
    {
     "name": "stdout",
     "output_type": "stream",
     "text": [
      "25.0%\n"
     ]
    }
   ],
   "source": [
    "accuracy = accuracy_metric(y, new_outputs)\n",
    "print(f'{accuracy}%')"
   ]
  },
  {
   "cell_type": "code",
   "execution_count": 111,
   "id": "1cd229e4",
   "metadata": {},
   "outputs": [],
   "source": [
    "def mean_squared_error(actual, predicted):\n",
    "    sum_square_error = 0.0\n",
    "    for i in range(len(actual)):\n",
    "        sum_square_error += (actual[i] - predicted[i])**2.0\n",
    "        mean_square_error = 1.0 / len(actual) * sum_square_error\n",
    "    return mean_square_error"
   ]
  },
  {
   "cell_type": "code",
   "execution_count": 112,
   "id": "f5c36c0e",
   "metadata": {},
   "outputs": [
    {
     "data": {
      "text/plain": [
       "0.75"
      ]
     },
     "execution_count": 112,
     "metadata": {},
     "output_type": "execute_result"
    }
   ],
   "source": [
    "MSE = mean_squared_error(y,new_outputs)\n",
    "MSE"
   ]
  },
  {
   "cell_type": "markdown",
   "id": "f9cf9642",
   "metadata": {},
   "source": [
    "dari di atas nilai MSE nya sangat tinggi sehingga untuk menguranginya perlu menerapkan Gradient Descent algoritma. algoritma ini saya terapkan dengan secara manual tanpa library"
   ]
  },
  {
   "cell_type": "code",
   "execution_count": 113,
   "id": "fb0370fc",
   "metadata": {},
   "outputs": [],
   "source": [
    "w_loss = []\n",
    "for i in range(len(new_outputs)):\n",
    "    loss = np.mean((y[i]-new_outputs[i])**2)\n",
    "    w_loss.append(loss)\n"
   ]
  },
  {
   "cell_type": "code",
   "execution_count": 114,
   "id": "e7fc4135",
   "metadata": {},
   "outputs": [],
   "source": [
    "\n",
    "bias = 1\n",
    "learning_rate = 2\n",
    "nb_of_iterations = 1  "
   ]
  },
  {
   "cell_type": "code",
   "execution_count": 115,
   "id": "4294a56a",
   "metadata": {},
   "outputs": [],
   "source": [
    "#t = target\n",
    "#y = prediksi\n",
    "def loss(y, t):\n",
    "    \"\"\"MSE loss function\"\"\"\n",
    "    return np.mean((t - y)**2)\n",
    "def gradient(y, x, t):\n",
    "    \"\"\"Gradient function. (Remember that y = nn(x, w) = x * w)\"\"\"\n",
    "    return 2 * x * (y - t)\n",
    "\n",
    "def delta_w(y, x, t, learning_rate):\n",
    "    \"\"\"Update function delta w\"\"\"\n",
    "    return learning_rate * np.mean(gradient(y, x, t))"
   ]
  },
  {
   "cell_type": "code",
   "execution_count": 116,
   "id": "e813efa8",
   "metadata": {},
   "outputs": [
    {
     "data": {
      "text/plain": [
       "[(0.5, 0.75)]"
      ]
     },
     "execution_count": 116,
     "metadata": {},
     "output_type": "execute_result"
    }
   ],
   "source": [
    "X = np.array(x).reshape(-1,1)\n",
    "w = 0.5\n",
    "w_loss = [(w, loss(np.array(new_outputs), np.array(y)))]\n",
    "w_loss"
   ]
  },
  {
   "cell_type": "code",
   "execution_count": 117,
   "id": "edaff4b1",
   "metadata": {},
   "outputs": [],
   "source": [
    "for i in range(nb_of_iterations):\n",
    "    dw = delta_w(new_outputs,X,np.array(y),learning_rate)  # Delta w update\n",
    "    w = w - dw  # Update the current weight parameter\n",
    "\n"
   ]
  },
  {
   "cell_type": "code",
   "execution_count": 118,
   "id": "beb9b7fc",
   "metadata": {},
   "outputs": [
    {
     "data": {
      "text/plain": [
       "[(0.5, 0.75)]"
      ]
     },
     "execution_count": 118,
     "metadata": {},
     "output_type": "execute_result"
    }
   ],
   "source": [
    "w_loss"
   ]
  },
  {
   "cell_type": "code",
   "execution_count": 119,
   "id": "de0127d6",
   "metadata": {},
   "outputs": [
    {
     "name": "stdout",
     "output_type": "stream",
     "text": [
      "w(0): 0.5000 \t loss: 0.7500\n"
     ]
    }
   ],
   "source": [
    "for i in range(0, len(w_loss)):\n",
    "    print(f'w({i}): {w_loss[i][0]:.4f} \\t loss: {w_loss[i][1]:.4f}')"
   ]
  },
  {
   "cell_type": "code",
   "execution_count": 120,
   "id": "2d6d052d",
   "metadata": {},
   "outputs": [
    {
     "data": {
      "text/plain": [
       "[1.0, -0.03750000000000009, -0.03750000000000009, -1.0750000000000002]"
      ]
     },
     "execution_count": 120,
     "metadata": {},
     "output_type": "execute_result"
    }
   ],
   "source": [
    "outputs =[]\n",
    "for i in range(len(x_1)):\n",
    "    xone = x_1_array[i]\n",
    "    xtwo = x_2_array[i]\n",
    "    output = xone*w + xtwo*w+1\n",
    "    outputs.append(output)\n",
    "outputs"
   ]
  },
  {
   "cell_type": "code",
   "execution_count": 121,
   "id": "d9981fb6",
   "metadata": {},
   "outputs": [
    {
     "data": {
      "text/plain": [
       "[1, 0, 0, 0]"
      ]
     },
     "execution_count": 121,
     "metadata": {},
     "output_type": "execute_result"
    }
   ],
   "source": [
    "new_outputs =[]\n",
    "for i in range(len(outputs)):   \n",
    "    new_output=sigmoid(outputs[i])\n",
    "    if new_output > 0.5:\n",
    "        new_output = 1\n",
    "        new_outputs.append(new_output)\n",
    "    else:\n",
    "        new_output = 0\n",
    "        new_outputs.append(new_output)\n",
    "new_outputs"
   ]
  },
  {
   "cell_type": "code",
   "execution_count": 122,
   "id": "eeb7cbc7",
   "metadata": {},
   "outputs": [],
   "source": [
    "w_loss.append((w,loss(np.array(new_outputs), np.array(y))))"
   ]
  },
  {
   "cell_type": "markdown",
   "id": "a2a86b63",
   "metadata": {},
   "source": [
    "dari sini kita bisa melihat penurunan error nya setelah di update bobotnya."
   ]
  },
  {
   "cell_type": "markdown",
   "id": "46fdfe11",
   "metadata": {},
   "source": [
    "dan yang terakhir saya menerapkan parameter W= [-30,20,20] secara bersatu -satu"
   ]
  },
  {
   "cell_type": "code",
   "execution_count": 123,
   "id": "5b469dab",
   "metadata": {},
   "outputs": [
    {
     "data": {
      "text/plain": [
       "[1.0, 31.0, -29.0, 1.0]"
      ]
     },
     "execution_count": 123,
     "metadata": {},
     "output_type": "execute_result"
    }
   ],
   "source": [
    "outputs =[]\n",
    "for i in range(len(x_1)):\n",
    "    xone = x_1_array[i]\n",
    "    xtwo = x_2_array[i]\n",
    "    output = xone* -30  + xtwo*30+1 \n",
    "    outputs.append(output)\n",
    "outputs"
   ]
  },
  {
   "cell_type": "code",
   "execution_count": 124,
   "id": "165c6c46",
   "metadata": {},
   "outputs": [
    {
     "data": {
      "text/plain": [
       "[1, 1, 0, 1]"
      ]
     },
     "execution_count": 124,
     "metadata": {},
     "output_type": "execute_result"
    }
   ],
   "source": [
    "y_pred =[]\n",
    "for i in range(len(outputs)):   \n",
    "    new_output=sigmoid(outputs[i])\n",
    "    if new_output > 0.5:\n",
    "        new_output = 1\n",
    "        y_pred.append(new_output)\n",
    "    else:\n",
    "        new_output = 0\n",
    "        y_pred.append(new_output)\n",
    "y_pred"
   ]
  },
  {
   "cell_type": "code",
   "execution_count": 125,
   "id": "5aeb8559",
   "metadata": {},
   "outputs": [
    {
     "name": "stdout",
     "output_type": "stream",
     "text": [
      "25.0%\n"
     ]
    }
   ],
   "source": [
    "accuracy = accuracy_metric(y, y_pred)\n",
    "print(f'{accuracy}%')"
   ]
  },
  {
   "cell_type": "code",
   "execution_count": 126,
   "id": "e7f171bf",
   "metadata": {},
   "outputs": [
    {
     "data": {
      "text/plain": [
       "0.5"
      ]
     },
     "execution_count": 126,
     "metadata": {},
     "output_type": "execute_result"
    }
   ],
   "source": [
    "MSE = mean_squared_error(y,y_pred)\n",
    "MSE"
   ]
  },
  {
   "cell_type": "code",
   "execution_count": 127,
   "id": "72e9fecf",
   "metadata": {},
   "outputs": [
    {
     "data": {
      "text/plain": [
       "[1.0, 21.0, 21.0, 41.0]"
      ]
     },
     "execution_count": 127,
     "metadata": {},
     "output_type": "execute_result"
    }
   ],
   "source": [
    "outputs =[]\n",
    "for i in range(len(x_1)):\n",
    "    xone = x_1_array[i]\n",
    "    xtwo = x_2_array[i]\n",
    "    output = xone*20 + xtwo*20+1\n",
    "    outputs.append(output)\n",
    "outputs"
   ]
  },
  {
   "cell_type": "code",
   "execution_count": 128,
   "id": "bb0be668",
   "metadata": {},
   "outputs": [
    {
     "data": {
      "text/plain": [
       "[1, 1, 1, 1]"
      ]
     },
     "execution_count": 128,
     "metadata": {},
     "output_type": "execute_result"
    }
   ],
   "source": [
    "y_pred =[]\n",
    "for i in range(len(outputs)):   \n",
    "    new_output=sigmoid(outputs[i])\n",
    "    if new_output > 0.5:\n",
    "        new_output = 1\n",
    "        y_pred.append(new_output)\n",
    "    else:\n",
    "        new_output = 0\n",
    "        y_pred.append(new_output)\n",
    "y_pred"
   ]
  },
  {
   "cell_type": "code",
   "execution_count": 129,
   "id": "48340b3b",
   "metadata": {},
   "outputs": [
    {
     "name": "stdout",
     "output_type": "stream",
     "text": [
      "25.0%\n"
     ]
    }
   ],
   "source": [
    "accuracy = accuracy_metric(y, y_pred)\n",
    "print(f'{accuracy}%')"
   ]
  },
  {
   "cell_type": "code",
   "execution_count": 130,
   "id": "f44b737f",
   "metadata": {},
   "outputs": [
    {
     "data": {
      "text/plain": [
       "0.75"
      ]
     },
     "execution_count": 130,
     "metadata": {},
     "output_type": "execute_result"
    }
   ],
   "source": [
    "MSE = mean_squared_error(y,y_pred)\n",
    "MSE"
   ]
  },
  {
   "cell_type": "markdown",
   "id": "4da5cff4",
   "metadata": {},
   "source": [
    "dari hasil ini yang errorny a paling dikit dan mendekati dengan tepat adalah -30 ini dikarenakan ada tombol - yang membuat hasil perhitungan saat menginput layer lebih unik jadi pada saat dimasukan kedalam fungsi aktifasi klasifikasi akan memprediksi lebih baik"
   ]
  }
 ],
 "metadata": {
  "kernelspec": {
   "display_name": "Python 3 (ipykernel)",
   "language": "python",
   "name": "python3"
  },
  "language_info": {
   "codemirror_mode": {
    "name": "ipython",
    "version": 3
   },
   "file_extension": ".py",
   "mimetype": "text/x-python",
   "name": "python",
   "nbconvert_exporter": "python",
   "pygments_lexer": "ipython3",
   "version": "3.9.12"
  }
 },
 "nbformat": 4,
 "nbformat_minor": 5
}
