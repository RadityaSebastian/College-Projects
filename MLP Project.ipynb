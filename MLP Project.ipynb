{
  "nbformat": 4,
  "nbformat_minor": 0,
  "metadata": {
    "colab": {
      "provenance": []
    },
    "kernelspec": {
      "name": "python3",
      "display_name": "Python 3"
    },
    "language_info": {
      "name": "python"
    }
  },
  "cells": [
    {
      "cell_type": "markdown",
      "source": [
        "## Raditya Sebastian\n",
        "## 1306620042"
      ],
      "metadata": {
        "id": "tc5F0iCWSU8y"
      }
    },
    {
      "cell_type": "markdown",
      "source": [
        "Library"
      ],
      "metadata": {
        "id": "12KPsDh-oIpK"
      }
    },
    {
      "cell_type": "code",
      "source": [
        "import sys\n",
        "!{sys.executable} -m pip install scikeras"
      ],
      "metadata": {
        "colab": {
          "base_uri": "https://localhost:8080/"
        },
        "id": "0JpbVbxwGoVu",
        "outputId": "ef818a63-ec6e-46a7-e974-5e8e4d3dff1e"
      },
      "execution_count": null,
      "outputs": [
        {
          "output_type": "stream",
          "name": "stdout",
          "text": [
            "Collecting scikeras\n",
            "  Downloading scikeras-0.12.0-py3-none-any.whl (27 kB)\n",
            "Requirement already satisfied: packaging>=0.21 in /usr/local/lib/python3.10/dist-packages (from scikeras) (23.2)\n",
            "Requirement already satisfied: scikit-learn>=1.0.0 in /usr/local/lib/python3.10/dist-packages (from scikeras) (1.2.2)\n",
            "Requirement already satisfied: numpy>=1.17.3 in /usr/local/lib/python3.10/dist-packages (from scikit-learn>=1.0.0->scikeras) (1.23.5)\n",
            "Requirement already satisfied: scipy>=1.3.2 in /usr/local/lib/python3.10/dist-packages (from scikit-learn>=1.0.0->scikeras) (1.11.3)\n",
            "Requirement already satisfied: joblib>=1.1.1 in /usr/local/lib/python3.10/dist-packages (from scikit-learn>=1.0.0->scikeras) (1.3.2)\n",
            "Requirement already satisfied: threadpoolctl>=2.0.0 in /usr/local/lib/python3.10/dist-packages (from scikit-learn>=1.0.0->scikeras) (3.2.0)\n",
            "Installing collected packages: scikeras\n",
            "Successfully installed scikeras-0.12.0\n"
          ]
        }
      ]
    },
    {
      "cell_type": "code",
      "execution_count": null,
      "metadata": {
        "id": "PdCXe4prKn5h"
      },
      "outputs": [],
      "source": [
        "import numpy as np\n",
        "import matplotlib.pyplot as plt\n",
        "import pandas as pd\n",
        "import seaborn as sns\n",
        "from sklearn.model_selection import train_test_split, cross_val_score\n",
        "from sklearn.preprocessing import MinMaxScaler\n",
        "import tensorflow as tf\n",
        "from sklearn.metrics import accuracy_score\n",
        "from sklearn.metrics import precision_score\n",
        "from sklearn.metrics import recall_score\n",
        "from sklearn.metrics import f1_score\n",
        "from sklearn.metrics import confusion_matrix\n",
        "from sklearn.model_selection import RandomizedSearchCV\n",
        "from scipy.stats import uniform\n",
        "from sklearn.model_selection import GridSearchCV\n",
        "from sklearn.model_selection import RepeatedStratifiedKFold\n",
        "from scikeras.wrappers import KerasClassifier\n",
        "from scipy.stats import loguniform\n"
      ]
    },
    {
      "cell_type": "markdown",
      "source": [
        "Fungsi yang akan membaca data dan menghitung gradien dan maksimum gradien"
      ],
      "metadata": {
        "id": "hTY4WgymoMJQ"
      }
    },
    {
      "cell_type": "code",
      "source": [
        "def data_reader(data_files):\n",
        "  df = pd.read_csv(data_files)\n",
        "  df = df.drop('time(s)',axis=1)\n",
        "  cols =[]\n",
        "  cols =df.columns\n",
        "  F1 = 0\n",
        "  F2 = 0\n",
        "  F3 = 0\n",
        "  F4 = 0\n",
        "  F5 = 0\n",
        "  F6 = 0\n",
        "  F7 = 0\n",
        "  F8 = 0\n",
        "  F9 = 0\n",
        "  F10 = 0\n",
        "\n",
        "  for names in cols:\n",
        "    grad_max = np.argmax(np.abs(np.gradient(df[names])))\n",
        "    if names =='F1':\n",
        "      F1 = grad_max\n",
        "    elif names =='F2':\n",
        "      F2 = grad_max\n",
        "    elif names =='F3':\n",
        "      F3 = grad_max\n",
        "    elif names =='F4':\n",
        "      F4 = grad_max\n",
        "    elif names =='F5':\n",
        "      F5 = grad_max\n",
        "    elif names =='F6':\n",
        "      F6 = grad_max\n",
        "    elif names =='F7':\n",
        "      F7 = grad_max\n",
        "    elif names =='F8':\n",
        "      F8 = grad_max\n",
        "    elif names =='F9':\n",
        "      F9 = grad_max\n",
        "    elif names =='F10':\n",
        "      F10 = grad_max\n",
        "  return F1,F2,F3,F4,F5,F6,F7,F8,F9,F10\n",
        "\n"
      ],
      "metadata": {
        "id": "imvsO20KpwNW"
      },
      "execution_count": null,
      "outputs": []
    },
    {
      "cell_type": "markdown",
      "source": [
        "Aplikasi kan fungsi"
      ],
      "metadata": {
        "id": "EtD0XHWwoUMu"
      }
    },
    {
      "cell_type": "code",
      "source": [
        "#A\n",
        "F1 = []\n",
        "F2 = []\n",
        "F3 = []\n",
        "F4 = []\n",
        "F5 = []\n",
        "F6 = []\n",
        "F7 = []\n",
        "F8 = []\n",
        "F9 = []\n",
        "F10 = []\n",
        "group =[]\n",
        "for i in range(0,35):\n",
        "  f1,f2,f3,f4,f5,f6,f7,f8,f9,f10 =data_reader(f'/content/Data_Files/_A_{i+1}_crop1030.csv')\n",
        "  F1.append(f1)\n",
        "  F2.append(f2)\n",
        "  F3.append(f3)\n",
        "  F4.append(f4)\n",
        "  F5.append(f5)\n",
        "  F6.append(f6)\n",
        "  F7.append(f7)\n",
        "  F8.append(f8)\n",
        "  F9.append(f9)\n",
        "  F10.append(f10)\n",
        "  group.append('A')"
      ],
      "metadata": {
        "id": "wFTLNqTJMDTP"
      },
      "execution_count": null,
      "outputs": []
    },
    {
      "cell_type": "code",
      "source": [
        "#B\n",
        "for i in range(0,35):\n",
        "  f1,f2,f3,f4,f5,f6,f7,f8,f9,f10, =data_reader(f'/content/Data_Files/_B_{i+1}_crop1030.csv')\n",
        "  F1.append(f1)\n",
        "  F2.append(f2)\n",
        "  F3.append(f3)\n",
        "  F4.append(f4)\n",
        "  F5.append(f5)\n",
        "  F6.append(f6)\n",
        "  F7.append(f7)\n",
        "  F8.append(f8)\n",
        "  F9.append(f9)\n",
        "  F10.append(f10)\n",
        "  group.append('B')"
      ],
      "metadata": {
        "id": "OPYV8mvSwS6j"
      },
      "execution_count": null,
      "outputs": []
    },
    {
      "cell_type": "code",
      "source": [
        "data = {'F1':F1,\n",
        "        'F2':F2,\n",
        "        'F3':F3,\n",
        "        'F4':F4,\n",
        "        'F5':F5,\n",
        "        'F6':F6,\n",
        "        'F7':F7,\n",
        "        'F8':F8,\n",
        "        'F9':F9,\n",
        "        'F10':F10,\n",
        "        'Label':group\n",
        "        }"
      ],
      "metadata": {
        "id": "0rIeVp705qPd"
      },
      "execution_count": null,
      "outputs": []
    },
    {
      "cell_type": "code",
      "source": [
        "df = pd.DataFrame(data)\n",
        "df"
      ],
      "metadata": {
        "colab": {
          "base_uri": "https://localhost:8080/",
          "height": 424
        },
        "id": "xbe1SJAs7AA7",
        "outputId": "15348af2-4a1d-4c8a-9b34-8f092525d24f"
      },
      "execution_count": null,
      "outputs": [
        {
          "output_type": "execute_result",
          "data": {
            "text/plain": [
              "    F1  F2   F3  F4  F5  F6  F7  F8  F9  F10 Label\n",
              "0   53  79    3  30  35  30  29  31  30   24     A\n",
              "1   42  71  200  27  30  29  27  27  26   20     A\n",
              "2   63  76    5  35  39  32  28  36  32   27     A\n",
              "3   56  76    5  32  36  33  36  34  30   25     A\n",
              "4   50  71   64  27  32  29  20  29  27   21     A\n",
              "..  ..  ..  ...  ..  ..  ..  ..  ..  ..  ...   ...\n",
              "65  51  93   72  31  34  31  22  30  28   22     B\n",
              "66  46  90    0  26  32  29   3  26  23   19     B\n",
              "67  49  92    1  28  32  30  29  28  26   20     B\n",
              "68  47  84   74  26  32  27  30  26  24   20     B\n",
              "69  47  80  112  27  33  29  18  27  24   20     B\n",
              "\n",
              "[70 rows x 11 columns]"
            ],
            "text/html": [
              "\n",
              "  <div id=\"df-508dc1fa-b0b8-432f-b495-b499b8117f38\" class=\"colab-df-container\">\n",
              "    <div>\n",
              "<style scoped>\n",
              "    .dataframe tbody tr th:only-of-type {\n",
              "        vertical-align: middle;\n",
              "    }\n",
              "\n",
              "    .dataframe tbody tr th {\n",
              "        vertical-align: top;\n",
              "    }\n",
              "\n",
              "    .dataframe thead th {\n",
              "        text-align: right;\n",
              "    }\n",
              "</style>\n",
              "<table border=\"1\" class=\"dataframe\">\n",
              "  <thead>\n",
              "    <tr style=\"text-align: right;\">\n",
              "      <th></th>\n",
              "      <th>F1</th>\n",
              "      <th>F2</th>\n",
              "      <th>F3</th>\n",
              "      <th>F4</th>\n",
              "      <th>F5</th>\n",
              "      <th>F6</th>\n",
              "      <th>F7</th>\n",
              "      <th>F8</th>\n",
              "      <th>F9</th>\n",
              "      <th>F10</th>\n",
              "      <th>Label</th>\n",
              "    </tr>\n",
              "  </thead>\n",
              "  <tbody>\n",
              "    <tr>\n",
              "      <th>0</th>\n",
              "      <td>53</td>\n",
              "      <td>79</td>\n",
              "      <td>3</td>\n",
              "      <td>30</td>\n",
              "      <td>35</td>\n",
              "      <td>30</td>\n",
              "      <td>29</td>\n",
              "      <td>31</td>\n",
              "      <td>30</td>\n",
              "      <td>24</td>\n",
              "      <td>A</td>\n",
              "    </tr>\n",
              "    <tr>\n",
              "      <th>1</th>\n",
              "      <td>42</td>\n",
              "      <td>71</td>\n",
              "      <td>200</td>\n",
              "      <td>27</td>\n",
              "      <td>30</td>\n",
              "      <td>29</td>\n",
              "      <td>27</td>\n",
              "      <td>27</td>\n",
              "      <td>26</td>\n",
              "      <td>20</td>\n",
              "      <td>A</td>\n",
              "    </tr>\n",
              "    <tr>\n",
              "      <th>2</th>\n",
              "      <td>63</td>\n",
              "      <td>76</td>\n",
              "      <td>5</td>\n",
              "      <td>35</td>\n",
              "      <td>39</td>\n",
              "      <td>32</td>\n",
              "      <td>28</td>\n",
              "      <td>36</td>\n",
              "      <td>32</td>\n",
              "      <td>27</td>\n",
              "      <td>A</td>\n",
              "    </tr>\n",
              "    <tr>\n",
              "      <th>3</th>\n",
              "      <td>56</td>\n",
              "      <td>76</td>\n",
              "      <td>5</td>\n",
              "      <td>32</td>\n",
              "      <td>36</td>\n",
              "      <td>33</td>\n",
              "      <td>36</td>\n",
              "      <td>34</td>\n",
              "      <td>30</td>\n",
              "      <td>25</td>\n",
              "      <td>A</td>\n",
              "    </tr>\n",
              "    <tr>\n",
              "      <th>4</th>\n",
              "      <td>50</td>\n",
              "      <td>71</td>\n",
              "      <td>64</td>\n",
              "      <td>27</td>\n",
              "      <td>32</td>\n",
              "      <td>29</td>\n",
              "      <td>20</td>\n",
              "      <td>29</td>\n",
              "      <td>27</td>\n",
              "      <td>21</td>\n",
              "      <td>A</td>\n",
              "    </tr>\n",
              "    <tr>\n",
              "      <th>...</th>\n",
              "      <td>...</td>\n",
              "      <td>...</td>\n",
              "      <td>...</td>\n",
              "      <td>...</td>\n",
              "      <td>...</td>\n",
              "      <td>...</td>\n",
              "      <td>...</td>\n",
              "      <td>...</td>\n",
              "      <td>...</td>\n",
              "      <td>...</td>\n",
              "      <td>...</td>\n",
              "    </tr>\n",
              "    <tr>\n",
              "      <th>65</th>\n",
              "      <td>51</td>\n",
              "      <td>93</td>\n",
              "      <td>72</td>\n",
              "      <td>31</td>\n",
              "      <td>34</td>\n",
              "      <td>31</td>\n",
              "      <td>22</td>\n",
              "      <td>30</td>\n",
              "      <td>28</td>\n",
              "      <td>22</td>\n",
              "      <td>B</td>\n",
              "    </tr>\n",
              "    <tr>\n",
              "      <th>66</th>\n",
              "      <td>46</td>\n",
              "      <td>90</td>\n",
              "      <td>0</td>\n",
              "      <td>26</td>\n",
              "      <td>32</td>\n",
              "      <td>29</td>\n",
              "      <td>3</td>\n",
              "      <td>26</td>\n",
              "      <td>23</td>\n",
              "      <td>19</td>\n",
              "      <td>B</td>\n",
              "    </tr>\n",
              "    <tr>\n",
              "      <th>67</th>\n",
              "      <td>49</td>\n",
              "      <td>92</td>\n",
              "      <td>1</td>\n",
              "      <td>28</td>\n",
              "      <td>32</td>\n",
              "      <td>30</td>\n",
              "      <td>29</td>\n",
              "      <td>28</td>\n",
              "      <td>26</td>\n",
              "      <td>20</td>\n",
              "      <td>B</td>\n",
              "    </tr>\n",
              "    <tr>\n",
              "      <th>68</th>\n",
              "      <td>47</td>\n",
              "      <td>84</td>\n",
              "      <td>74</td>\n",
              "      <td>26</td>\n",
              "      <td>32</td>\n",
              "      <td>27</td>\n",
              "      <td>30</td>\n",
              "      <td>26</td>\n",
              "      <td>24</td>\n",
              "      <td>20</td>\n",
              "      <td>B</td>\n",
              "    </tr>\n",
              "    <tr>\n",
              "      <th>69</th>\n",
              "      <td>47</td>\n",
              "      <td>80</td>\n",
              "      <td>112</td>\n",
              "      <td>27</td>\n",
              "      <td>33</td>\n",
              "      <td>29</td>\n",
              "      <td>18</td>\n",
              "      <td>27</td>\n",
              "      <td>24</td>\n",
              "      <td>20</td>\n",
              "      <td>B</td>\n",
              "    </tr>\n",
              "  </tbody>\n",
              "</table>\n",
              "<p>70 rows × 11 columns</p>\n",
              "</div>\n",
              "    <div class=\"colab-df-buttons\">\n",
              "\n",
              "  <div class=\"colab-df-container\">\n",
              "    <button class=\"colab-df-convert\" onclick=\"convertToInteractive('df-508dc1fa-b0b8-432f-b495-b499b8117f38')\"\n",
              "            title=\"Convert this dataframe to an interactive table.\"\n",
              "            style=\"display:none;\">\n",
              "\n",
              "  <svg xmlns=\"http://www.w3.org/2000/svg\" height=\"24px\" viewBox=\"0 -960 960 960\">\n",
              "    <path d=\"M120-120v-720h720v720H120Zm60-500h600v-160H180v160Zm220 220h160v-160H400v160Zm0 220h160v-160H400v160ZM180-400h160v-160H180v160Zm440 0h160v-160H620v160ZM180-180h160v-160H180v160Zm440 0h160v-160H620v160Z\"/>\n",
              "  </svg>\n",
              "    </button>\n",
              "\n",
              "  <style>\n",
              "    .colab-df-container {\n",
              "      display:flex;\n",
              "      gap: 12px;\n",
              "    }\n",
              "\n",
              "    .colab-df-convert {\n",
              "      background-color: #E8F0FE;\n",
              "      border: none;\n",
              "      border-radius: 50%;\n",
              "      cursor: pointer;\n",
              "      display: none;\n",
              "      fill: #1967D2;\n",
              "      height: 32px;\n",
              "      padding: 0 0 0 0;\n",
              "      width: 32px;\n",
              "    }\n",
              "\n",
              "    .colab-df-convert:hover {\n",
              "      background-color: #E2EBFA;\n",
              "      box-shadow: 0px 1px 2px rgba(60, 64, 67, 0.3), 0px 1px 3px 1px rgba(60, 64, 67, 0.15);\n",
              "      fill: #174EA6;\n",
              "    }\n",
              "\n",
              "    .colab-df-buttons div {\n",
              "      margin-bottom: 4px;\n",
              "    }\n",
              "\n",
              "    [theme=dark] .colab-df-convert {\n",
              "      background-color: #3B4455;\n",
              "      fill: #D2E3FC;\n",
              "    }\n",
              "\n",
              "    [theme=dark] .colab-df-convert:hover {\n",
              "      background-color: #434B5C;\n",
              "      box-shadow: 0px 1px 3px 1px rgba(0, 0, 0, 0.15);\n",
              "      filter: drop-shadow(0px 1px 2px rgba(0, 0, 0, 0.3));\n",
              "      fill: #FFFFFF;\n",
              "    }\n",
              "  </style>\n",
              "\n",
              "    <script>\n",
              "      const buttonEl =\n",
              "        document.querySelector('#df-508dc1fa-b0b8-432f-b495-b499b8117f38 button.colab-df-convert');\n",
              "      buttonEl.style.display =\n",
              "        google.colab.kernel.accessAllowed ? 'block' : 'none';\n",
              "\n",
              "      async function convertToInteractive(key) {\n",
              "        const element = document.querySelector('#df-508dc1fa-b0b8-432f-b495-b499b8117f38');\n",
              "        const dataTable =\n",
              "          await google.colab.kernel.invokeFunction('convertToInteractive',\n",
              "                                                    [key], {});\n",
              "        if (!dataTable) return;\n",
              "\n",
              "        const docLinkHtml = 'Like what you see? Visit the ' +\n",
              "          '<a target=\"_blank\" href=https://colab.research.google.com/notebooks/data_table.ipynb>data table notebook</a>'\n",
              "          + ' to learn more about interactive tables.';\n",
              "        element.innerHTML = '';\n",
              "        dataTable['output_type'] = 'display_data';\n",
              "        await google.colab.output.renderOutput(dataTable, element);\n",
              "        const docLink = document.createElement('div');\n",
              "        docLink.innerHTML = docLinkHtml;\n",
              "        element.appendChild(docLink);\n",
              "      }\n",
              "    </script>\n",
              "  </div>\n",
              "\n",
              "\n",
              "<div id=\"df-803f6501-2157-4bdf-bd9e-91dc60dd81f1\">\n",
              "  <button class=\"colab-df-quickchart\" onclick=\"quickchart('df-803f6501-2157-4bdf-bd9e-91dc60dd81f1')\"\n",
              "            title=\"Suggest charts\"\n",
              "            style=\"display:none;\">\n",
              "\n",
              "<svg xmlns=\"http://www.w3.org/2000/svg\" height=\"24px\"viewBox=\"0 0 24 24\"\n",
              "     width=\"24px\">\n",
              "    <g>\n",
              "        <path d=\"M19 3H5c-1.1 0-2 .9-2 2v14c0 1.1.9 2 2 2h14c1.1 0 2-.9 2-2V5c0-1.1-.9-2-2-2zM9 17H7v-7h2v7zm4 0h-2V7h2v10zm4 0h-2v-4h2v4z\"/>\n",
              "    </g>\n",
              "</svg>\n",
              "  </button>\n",
              "\n",
              "<style>\n",
              "  .colab-df-quickchart {\n",
              "      --bg-color: #E8F0FE;\n",
              "      --fill-color: #1967D2;\n",
              "      --hover-bg-color: #E2EBFA;\n",
              "      --hover-fill-color: #174EA6;\n",
              "      --disabled-fill-color: #AAA;\n",
              "      --disabled-bg-color: #DDD;\n",
              "  }\n",
              "\n",
              "  [theme=dark] .colab-df-quickchart {\n",
              "      --bg-color: #3B4455;\n",
              "      --fill-color: #D2E3FC;\n",
              "      --hover-bg-color: #434B5C;\n",
              "      --hover-fill-color: #FFFFFF;\n",
              "      --disabled-bg-color: #3B4455;\n",
              "      --disabled-fill-color: #666;\n",
              "  }\n",
              "\n",
              "  .colab-df-quickchart {\n",
              "    background-color: var(--bg-color);\n",
              "    border: none;\n",
              "    border-radius: 50%;\n",
              "    cursor: pointer;\n",
              "    display: none;\n",
              "    fill: var(--fill-color);\n",
              "    height: 32px;\n",
              "    padding: 0;\n",
              "    width: 32px;\n",
              "  }\n",
              "\n",
              "  .colab-df-quickchart:hover {\n",
              "    background-color: var(--hover-bg-color);\n",
              "    box-shadow: 0 1px 2px rgba(60, 64, 67, 0.3), 0 1px 3px 1px rgba(60, 64, 67, 0.15);\n",
              "    fill: var(--button-hover-fill-color);\n",
              "  }\n",
              "\n",
              "  .colab-df-quickchart-complete:disabled,\n",
              "  .colab-df-quickchart-complete:disabled:hover {\n",
              "    background-color: var(--disabled-bg-color);\n",
              "    fill: var(--disabled-fill-color);\n",
              "    box-shadow: none;\n",
              "  }\n",
              "\n",
              "  .colab-df-spinner {\n",
              "    border: 2px solid var(--fill-color);\n",
              "    border-color: transparent;\n",
              "    border-bottom-color: var(--fill-color);\n",
              "    animation:\n",
              "      spin 1s steps(1) infinite;\n",
              "  }\n",
              "\n",
              "  @keyframes spin {\n",
              "    0% {\n",
              "      border-color: transparent;\n",
              "      border-bottom-color: var(--fill-color);\n",
              "      border-left-color: var(--fill-color);\n",
              "    }\n",
              "    20% {\n",
              "      border-color: transparent;\n",
              "      border-left-color: var(--fill-color);\n",
              "      border-top-color: var(--fill-color);\n",
              "    }\n",
              "    30% {\n",
              "      border-color: transparent;\n",
              "      border-left-color: var(--fill-color);\n",
              "      border-top-color: var(--fill-color);\n",
              "      border-right-color: var(--fill-color);\n",
              "    }\n",
              "    40% {\n",
              "      border-color: transparent;\n",
              "      border-right-color: var(--fill-color);\n",
              "      border-top-color: var(--fill-color);\n",
              "    }\n",
              "    60% {\n",
              "      border-color: transparent;\n",
              "      border-right-color: var(--fill-color);\n",
              "    }\n",
              "    80% {\n",
              "      border-color: transparent;\n",
              "      border-right-color: var(--fill-color);\n",
              "      border-bottom-color: var(--fill-color);\n",
              "    }\n",
              "    90% {\n",
              "      border-color: transparent;\n",
              "      border-bottom-color: var(--fill-color);\n",
              "    }\n",
              "  }\n",
              "</style>\n",
              "\n",
              "  <script>\n",
              "    async function quickchart(key) {\n",
              "      const quickchartButtonEl =\n",
              "        document.querySelector('#' + key + ' button');\n",
              "      quickchartButtonEl.disabled = true;  // To prevent multiple clicks.\n",
              "      quickchartButtonEl.classList.add('colab-df-spinner');\n",
              "      try {\n",
              "        const charts = await google.colab.kernel.invokeFunction(\n",
              "            'suggestCharts', [key], {});\n",
              "      } catch (error) {\n",
              "        console.error('Error during call to suggestCharts:', error);\n",
              "      }\n",
              "      quickchartButtonEl.classList.remove('colab-df-spinner');\n",
              "      quickchartButtonEl.classList.add('colab-df-quickchart-complete');\n",
              "    }\n",
              "    (() => {\n",
              "      let quickchartButtonEl =\n",
              "        document.querySelector('#df-803f6501-2157-4bdf-bd9e-91dc60dd81f1 button');\n",
              "      quickchartButtonEl.style.display =\n",
              "        google.colab.kernel.accessAllowed ? 'block' : 'none';\n",
              "    })();\n",
              "  </script>\n",
              "</div>\n",
              "    </div>\n",
              "  </div>\n"
            ]
          },
          "metadata": {},
          "execution_count": 7
        }
      ]
    },
    {
      "cell_type": "code",
      "source": [
        "df.to_csv(\"/content/data_gradmax_2c10d70.csv\")"
      ],
      "metadata": {
        "id": "COTZkYCD6dX5"
      },
      "execution_count": null,
      "outputs": []
    },
    {
      "cell_type": "markdown",
      "source": [
        "Mengecek NaN"
      ],
      "metadata": {
        "id": "psKTEPm-nB4S"
      }
    },
    {
      "cell_type": "code",
      "source": [
        "df.isnull().sum()"
      ],
      "metadata": {
        "colab": {
          "base_uri": "https://localhost:8080/"
        },
        "id": "Q2I4OxJHm99v",
        "outputId": "f9db0637-21ff-4dea-a61d-ded509ab9e31"
      },
      "execution_count": null,
      "outputs": [
        {
          "output_type": "execute_result",
          "data": {
            "text/plain": [
              "F1       0\n",
              "F2       0\n",
              "F3       0\n",
              "F4       0\n",
              "F5       0\n",
              "F6       0\n",
              "F7       0\n",
              "F8       0\n",
              "F9       0\n",
              "F10      0\n",
              "Label    0\n",
              "dtype: int64"
            ]
          },
          "metadata": {},
          "execution_count": 9
        }
      ]
    },
    {
      "cell_type": "markdown",
      "source": [
        "Mengubah Outlier menjadi nilai minimal atau maximum"
      ],
      "metadata": {
        "id": "xSxf2faxaCx_"
      }
    },
    {
      "cell_type": "code",
      "source": [
        "cols = []\n",
        "cols =df.columns\n",
        "sns.boxplot(df[cols[:-1]])\n",
        "plt.title(\"Sebelum di ubah\")"
      ],
      "metadata": {
        "colab": {
          "base_uri": "https://localhost:8080/",
          "height": 469
        },
        "id": "offktabYJcmC",
        "outputId": "1f504127-7493-4344-dabc-db5640b89dd2"
      },
      "execution_count": null,
      "outputs": [
        {
          "output_type": "execute_result",
          "data": {
            "text/plain": [
              "Text(0.5, 1.0, 'Sebelum di ubah')"
            ]
          },
          "metadata": {},
          "execution_count": 10
        },
        {
          "output_type": "display_data",
          "data": {
            "text/plain": [
              "<Figure size 640x480 with 1 Axes>"
            ],
            "image/png": "[encoded data removed]"
          },
          "metadata": {}
        }
      ]
    },
    {
      "cell_type": "code",
      "source": [
        "q1 = df[\"F7\"].quantile(0.25)\n",
        "q2 = df[\"F7\"].quantile(0.75)\n",
        "IQR = q2 - q1\n",
        "max_limit = q2 + (1.5 * IQR)\n",
        "min_limit = q1 - (1.5 * IQR)\n",
        "df['F7'] = pd.DataFrame(np.where(df[\"F7\"] > max_limit, max_limit,\n",
        "         (np.where(df[\"F7\"] < min_limit, min_limit, df[\"F7\"]))), columns=[\"F7\"])"
      ],
      "metadata": {
        "id": "2TYTqErzVoSc"
      },
      "execution_count": null,
      "outputs": []
    },
    {
      "cell_type": "code",
      "source": [
        "sns.boxplot(df[cols[:-1]])\n",
        "plt.title(\"Sesudah di ubah\")"
      ],
      "metadata": {
        "colab": {
          "base_uri": "https://localhost:8080/",
          "height": 469
        },
        "id": "VdYs574mkahF",
        "outputId": "a4346364-e284-471e-d2e5-89b400a5ea22"
      },
      "execution_count": null,
      "outputs": [
        {
          "output_type": "execute_result",
          "data": {
            "text/plain": [
              "Text(0.5, 1.0, 'Sesudah di ubah')"
            ]
          },
          "metadata": {},
          "execution_count": 12
        },
        {
          "output_type": "display_data",
          "data": {
            "text/plain": [
              "<Figure size 640x480 with 1 Axes>"
            ],
            "image/png": "[encoded data removed]"
          },
          "metadata": {}
        }
      ]
    },
    {
      "cell_type": "markdown",
      "source": [
        "Mengecek keseimbangan sample label"
      ],
      "metadata": {
        "id": "8NHjphbm-_id"
      }
    },
    {
      "cell_type": "code",
      "source": [
        "plt.hist(df['Label'])"
      ],
      "metadata": {
        "colab": {
          "base_uri": "https://localhost:8080/",
          "height": 482
        },
        "id": "dd9YNHBxmbaD",
        "outputId": "b2a897d2-0553-41f7-b63a-97567e67b48d"
      },
      "execution_count": null,
      "outputs": [
        {
          "output_type": "execute_result",
          "data": {
            "text/plain": [
              "(array([35.,  0.,  0.,  0.,  0.,  0.,  0.,  0.,  0., 35.]),\n",
              " array([0. , 0.1, 0.2, 0.3, 0.4, 0.5, 0.6, 0.7, 0.8, 0.9, 1. ]),\n",
              " <BarContainer object of 10 artists>)"
            ]
          },
          "metadata": {},
          "execution_count": 13
        },
        {
          "output_type": "display_data",
          "data": {
            "text/plain": [
              "<Figure size 640x480 with 1 Axes>"
            ],
            "image/png": "[encoded data removed]"
          },
          "metadata": {}
        }
      ]
    },
    {
      "cell_type": "code",
      "source": [
        "df['Label']=df['Label'].apply(lambda x:0 if x=='A'else x)\n",
        "df['Label']=df['Label'].apply(lambda x:1 if x=='B'else x)"
      ],
      "metadata": {
        "id": "6TxuFnIsqfHJ"
      },
      "execution_count": null,
      "outputs": []
    },
    {
      "cell_type": "markdown",
      "source": [
        "karena sudah seimbang tidak perlu melakukan oversampling"
      ],
      "metadata": {
        "id": "cBkdjeuA_wmC"
      }
    },
    {
      "cell_type": "code",
      "source": [
        "X = df.loc[:, df.columns!='Label']\n",
        "y = df['Label']"
      ],
      "metadata": {
        "id": "LQv5ZEt8pWiQ"
      },
      "execution_count": null,
      "outputs": []
    },
    {
      "cell_type": "code",
      "source": [
        "X_train, X_test, y_train, y_test = train_test_split(X, y,\n",
        "                                                    train_size=0.8,\n",
        "                                                    random_state=42,\n",
        "                                                    shuffle=True)"
      ],
      "metadata": {
        "id": "bafmD7ur_1Y3"
      },
      "execution_count": null,
      "outputs": []
    },
    {
      "cell_type": "markdown",
      "source": [
        "Melakukan Normalisasi"
      ],
      "metadata": {
        "id": "UICb1JpFsyrm"
      }
    },
    {
      "cell_type": "code",
      "source": [
        "scaler = MinMaxScaler()\n",
        "X_normalized_train = scaler.fit_transform(X_train)\n",
        "X_normalized_test = scaler.fit_transform(X_test)"
      ],
      "metadata": {
        "id": "q9JRF5tzs0uC"
      },
      "execution_count": null,
      "outputs": []
    },
    {
      "cell_type": "markdown",
      "source": [
        "membuat model MLP menggunakan tensorflow"
      ],
      "metadata": {
        "id": "6Wyp-C9SRlzC"
      }
    },
    {
      "cell_type": "code",
      "source": [
        "model = tf.keras.Sequential([\n",
        "        tf.keras.layers.InputLayer(input_shape=(10,)),\n",
        "        tf.keras.layers.Dense(20,activation='relu'),\n",
        "        tf.keras.layers.Dense(20,activation='relu'),\n",
        "        tf.keras.layers.Dense(1,activation='sigmoid')\n",
        "]\n",
        ")"
      ],
      "metadata": {
        "id": "7W6xbhoXzInR"
      },
      "execution_count": null,
      "outputs": []
    },
    {
      "cell_type": "code",
      "source": [
        "model.compile(optimizer=tf.keras.optimizers.Adam(0.001),loss=tf.keras.losses.BinaryCrossentropy(),metrics=['accuracy'])"
      ],
      "metadata": {
        "id": "XlTSlXIfBcGM"
      },
      "execution_count": null,
      "outputs": []
    },
    {
      "cell_type": "code",
      "source": [
        "hasil_model =model.fit(X_normalized_train,y_train,epochs=100,validation_split=0.2)"
      ],
      "metadata": {
        "colab": {
          "base_uri": "https://localhost:8080/"
        },
        "id": "OIvVUu5XJSSL",
        "outputId": "751bd1a4-6757-46c1-e007-e3183ec4027c"
      },
      "execution_count": null,
      "outputs": [
        {
          "output_type": "stream",
          "name": "stdout",
          "text": [
            "Epoch 1/100\n",
            "2/2 [==============================] - 2s 357ms/step - loss: 0.7360 - accuracy: 0.4091 - val_loss: 0.6879 - val_accuracy: 0.5833\n",
            "Epoch 2/100\n",
            "2/2 [==============================] - 0s 65ms/step - loss: 0.7277 - accuracy: 0.4091 - val_loss: 0.6824 - val_accuracy: 0.5833\n",
            "Epoch 3/100\n",
            "2/2 [==============================] - 0s 66ms/step - loss: 0.7216 - accuracy: 0.4091 - val_loss: 0.6780 - val_accuracy: 0.5833\n",
            "Epoch 4/100\n",
            "2/2 [==============================] - 0s 62ms/step - loss: 0.7149 - accuracy: 0.4091 - val_loss: 0.6743 - val_accuracy: 0.5833\n",
            "Epoch 5/100\n",
            "2/2 [==============================] - 0s 62ms/step - loss: 0.7090 - accuracy: 0.4091 - val_loss: 0.6715 - val_accuracy: 0.5833\n",
            "Epoch 6/100\n",
            "2/2 [==============================] - 0s 46ms/step - loss: 0.7042 - accuracy: 0.4091 - val_loss: 0.6692 - val_accuracy: 0.5833\n",
            "Epoch 7/100\n",
            "2/2 [==============================] - 0s 62ms/step - loss: 0.6998 - accuracy: 0.4091 - val_loss: 0.6675 - val_accuracy: 0.5833\n",
            "Epoch 8/100\n",
            "2/2 [==============================] - 0s 62ms/step - loss: 0.6954 - accuracy: 0.4091 - val_loss: 0.6661 - val_accuracy: 0.5833\n",
            "Epoch 9/100\n",
            "2/2 [==============================] - 0s 60ms/step - loss: 0.6921 - accuracy: 0.4091 - val_loss: 0.6650 - val_accuracy: 0.5833\n",
            "Epoch 10/100\n",
            "2/2 [==============================] - 0s 72ms/step - loss: 0.6882 - accuracy: 0.4091 - val_loss: 0.6641 - val_accuracy: 0.5833\n",
            "Epoch 11/100\n",
            "2/2 [==============================] - 0s 50ms/step - loss: 0.6845 - accuracy: 0.4545 - val_loss: 0.6631 - val_accuracy: 0.5833\n",
            "Epoch 12/100\n",
            "2/2 [==============================] - 0s 68ms/step - loss: 0.6824 - accuracy: 0.4545 - val_loss: 0.6619 - val_accuracy: 0.5833\n",
            "Epoch 13/100\n",
            "2/2 [==============================] - 0s 56ms/step - loss: 0.6788 - accuracy: 0.4545 - val_loss: 0.6609 - val_accuracy: 0.5833\n",
            "Epoch 14/100\n",
            "2/2 [==============================] - 0s 68ms/step - loss: 0.6762 - accuracy: 0.4545 - val_loss: 0.6600 - val_accuracy: 0.5833\n",
            "Epoch 15/100\n",
            "2/2 [==============================] - 0s 62ms/step - loss: 0.6731 - accuracy: 0.5227 - val_loss: 0.6592 - val_accuracy: 0.5833\n",
            "Epoch 16/100\n",
            "2/2 [==============================] - 0s 69ms/step - loss: 0.6712 - accuracy: 0.5227 - val_loss: 0.6588 - val_accuracy: 0.5833\n",
            "Epoch 17/100\n",
            "2/2 [==============================] - 0s 64ms/step - loss: 0.6683 - accuracy: 0.5682 - val_loss: 0.6585 - val_accuracy: 0.5833\n",
            "Epoch 18/100\n",
            "2/2 [==============================] - 0s 51ms/step - loss: 0.6655 - accuracy: 0.5682 - val_loss: 0.6586 - val_accuracy: 0.5833\n",
            "Epoch 19/100\n",
            "2/2 [==============================] - 0s 82ms/step - loss: 0.6633 - accuracy: 0.5909 - val_loss: 0.6590 - val_accuracy: 0.5000\n",
            "Epoch 20/100\n",
            "2/2 [==============================] - 0s 64ms/step - loss: 0.6611 - accuracy: 0.6591 - val_loss: 0.6596 - val_accuracy: 0.5833\n",
            "Epoch 21/100\n",
            "2/2 [==============================] - 0s 33ms/step - loss: 0.6588 - accuracy: 0.7045 - val_loss: 0.6601 - val_accuracy: 0.5833\n",
            "Epoch 22/100\n",
            "2/2 [==============================] - 0s 33ms/step - loss: 0.6559 - accuracy: 0.7045 - val_loss: 0.6603 - val_accuracy: 0.5000\n",
            "Epoch 23/100\n",
            "2/2 [==============================] - 0s 33ms/step - loss: 0.6536 - accuracy: 0.7045 - val_loss: 0.6603 - val_accuracy: 0.5000\n",
            "Epoch 24/100\n",
            "2/2 [==============================] - 0s 33ms/step - loss: 0.6511 - accuracy: 0.7045 - val_loss: 0.6602 - val_accuracy: 0.5000\n",
            "Epoch 25/100\n",
            "2/2 [==============================] - 0s 98ms/step - loss: 0.6485 - accuracy: 0.7045 - val_loss: 0.6599 - val_accuracy: 0.5833\n",
            "Epoch 26/100\n",
            "2/2 [==============================] - 0s 94ms/step - loss: 0.6463 - accuracy: 0.7045 - val_loss: 0.6599 - val_accuracy: 0.5833\n",
            "Epoch 27/100\n",
            "2/2 [==============================] - 0s 106ms/step - loss: 0.6444 - accuracy: 0.7045 - val_loss: 0.6598 - val_accuracy: 0.5833\n",
            "Epoch 28/100\n",
            "2/2 [==============================] - 0s 74ms/step - loss: 0.6418 - accuracy: 0.7045 - val_loss: 0.6594 - val_accuracy: 0.5833\n",
            "Epoch 29/100\n",
            "2/2 [==============================] - 0s 71ms/step - loss: 0.6394 - accuracy: 0.7045 - val_loss: 0.6586 - val_accuracy: 0.5833\n",
            "Epoch 30/100\n",
            "2/2 [==============================] - 0s 59ms/step - loss: 0.6371 - accuracy: 0.7045 - val_loss: 0.6579 - val_accuracy: 0.5833\n",
            "Epoch 31/100\n",
            "2/2 [==============================] - 0s 74ms/step - loss: 0.6348 - accuracy: 0.7045 - val_loss: 0.6570 - val_accuracy: 0.5833\n",
            "Epoch 32/100\n",
            "2/2 [==============================] - 0s 71ms/step - loss: 0.6328 - accuracy: 0.7045 - val_loss: 0.6563 - val_accuracy: 0.5833\n",
            "Epoch 33/100\n",
            "2/2 [==============================] - 0s 70ms/step - loss: 0.6304 - accuracy: 0.7045 - val_loss: 0.6558 - val_accuracy: 0.5833\n",
            "Epoch 34/100\n",
            "2/2 [==============================] - 0s 83ms/step - loss: 0.6281 - accuracy: 0.7045 - val_loss: 0.6556 - val_accuracy: 0.6667\n",
            "Epoch 35/100\n",
            "2/2 [==============================] - 0s 65ms/step - loss: 0.6255 - accuracy: 0.7045 - val_loss: 0.6554 - val_accuracy: 0.6667\n",
            "Epoch 36/100\n",
            "2/2 [==============================] - 0s 74ms/step - loss: 0.6234 - accuracy: 0.7045 - val_loss: 0.6552 - val_accuracy: 0.6667\n",
            "Epoch 37/100\n",
            "2/2 [==============================] - 0s 61ms/step - loss: 0.6203 - accuracy: 0.7045 - val_loss: 0.6549 - val_accuracy: 0.6667\n",
            "Epoch 38/100\n",
            "2/2 [==============================] - 0s 108ms/step - loss: 0.6178 - accuracy: 0.7045 - val_loss: 0.6546 - val_accuracy: 0.6667\n",
            "Epoch 39/100\n",
            "2/2 [==============================] - 0s 100ms/step - loss: 0.6156 - accuracy: 0.7273 - val_loss: 0.6543 - val_accuracy: 0.6667\n",
            "Epoch 40/100\n",
            "2/2 [==============================] - 0s 51ms/step - loss: 0.6125 - accuracy: 0.7273 - val_loss: 0.6539 - val_accuracy: 0.6667\n",
            "Epoch 41/100\n",
            "2/2 [==============================] - 0s 83ms/step - loss: 0.6109 - accuracy: 0.7273 - val_loss: 0.6537 - val_accuracy: 0.6667\n",
            "Epoch 42/100\n",
            "2/2 [==============================] - 0s 95ms/step - loss: 0.6077 - accuracy: 0.7273 - val_loss: 0.6539 - val_accuracy: 0.6667\n",
            "Epoch 43/100\n",
            "2/2 [==============================] - 0s 73ms/step - loss: 0.6057 - accuracy: 0.7273 - val_loss: 0.6540 - val_accuracy: 0.6667\n",
            "Epoch 44/100\n",
            "2/2 [==============================] - 0s 89ms/step - loss: 0.6026 - accuracy: 0.7273 - val_loss: 0.6537 - val_accuracy: 0.6667\n",
            "Epoch 45/100\n",
            "2/2 [==============================] - 0s 86ms/step - loss: 0.6001 - accuracy: 0.7273 - val_loss: 0.6535 - val_accuracy: 0.6667\n",
            "Epoch 46/100\n",
            "2/2 [==============================] - 0s 64ms/step - loss: 0.5979 - accuracy: 0.7273 - val_loss: 0.6533 - val_accuracy: 0.6667\n",
            "Epoch 47/100\n",
            "2/2 [==============================] - 0s 63ms/step - loss: 0.5950 - accuracy: 0.7273 - val_loss: 0.6529 - val_accuracy: 0.6667\n",
            "Epoch 48/100\n",
            "2/2 [==============================] - 0s 79ms/step - loss: 0.5925 - accuracy: 0.7273 - val_loss: 0.6525 - val_accuracy: 0.6667\n",
            "Epoch 49/100\n",
            "2/2 [==============================] - 0s 83ms/step - loss: 0.5901 - accuracy: 0.7273 - val_loss: 0.6521 - val_accuracy: 0.6667\n",
            "Epoch 50/100\n",
            "2/2 [==============================] - 0s 111ms/step - loss: 0.5876 - accuracy: 0.7273 - val_loss: 0.6520 - val_accuracy: 0.6667\n",
            "Epoch 51/100\n",
            "2/2 [==============================] - 0s 93ms/step - loss: 0.5853 - accuracy: 0.7273 - val_loss: 0.6519 - val_accuracy: 0.6667\n",
            "Epoch 52/100\n",
            "2/2 [==============================] - 0s 124ms/step - loss: 0.5822 - accuracy: 0.7273 - val_loss: 0.6515 - val_accuracy: 0.6667\n",
            "Epoch 53/100\n",
            "2/2 [==============================] - 0s 66ms/step - loss: 0.5796 - accuracy: 0.7273 - val_loss: 0.6513 - val_accuracy: 0.6667\n",
            "Epoch 54/100\n",
            "2/2 [==============================] - 0s 123ms/step - loss: 0.5770 - accuracy: 0.7273 - val_loss: 0.6511 - val_accuracy: 0.6667\n",
            "Epoch 55/100\n",
            "2/2 [==============================] - 0s 139ms/step - loss: 0.5745 - accuracy: 0.7273 - val_loss: 0.6508 - val_accuracy: 0.6667\n",
            "Epoch 56/100\n",
            "2/2 [==============================] - 0s 71ms/step - loss: 0.5720 - accuracy: 0.7273 - val_loss: 0.6508 - val_accuracy: 0.6667\n",
            "Epoch 57/100\n",
            "2/2 [==============================] - 0s 48ms/step - loss: 0.5693 - accuracy: 0.7500 - val_loss: 0.6512 - val_accuracy: 0.6667\n",
            "Epoch 58/100\n",
            "2/2 [==============================] - 0s 69ms/step - loss: 0.5672 - accuracy: 0.7273 - val_loss: 0.6519 - val_accuracy: 0.6667\n",
            "Epoch 59/100\n",
            "2/2 [==============================] - 0s 69ms/step - loss: 0.5645 - accuracy: 0.7500 - val_loss: 0.6523 - val_accuracy: 0.6667\n",
            "Epoch 60/100\n",
            "2/2 [==============================] - 0s 66ms/step - loss: 0.5619 - accuracy: 0.7500 - val_loss: 0.6525 - val_accuracy: 0.6667\n",
            "Epoch 61/100\n",
            "2/2 [==============================] - 0s 112ms/step - loss: 0.5593 - accuracy: 0.7500 - val_loss: 0.6528 - val_accuracy: 0.6667\n",
            "Epoch 62/100\n",
            "2/2 [==============================] - 0s 112ms/step - loss: 0.5571 - accuracy: 0.7500 - val_loss: 0.6537 - val_accuracy: 0.6667\n",
            "Epoch 63/100\n",
            "2/2 [==============================] - 0s 107ms/step - loss: 0.5546 - accuracy: 0.7500 - val_loss: 0.6541 - val_accuracy: 0.6667\n",
            "Epoch 64/100\n",
            "2/2 [==============================] - 0s 70ms/step - loss: 0.5526 - accuracy: 0.7500 - val_loss: 0.6544 - val_accuracy: 0.6667\n",
            "Epoch 65/100\n",
            "2/2 [==============================] - 0s 50ms/step - loss: 0.5500 - accuracy: 0.7500 - val_loss: 0.6550 - val_accuracy: 0.6667\n",
            "Epoch 66/100\n",
            "2/2 [==============================] - 0s 111ms/step - loss: 0.5472 - accuracy: 0.7273 - val_loss: 0.6554 - val_accuracy: 0.6667\n",
            "Epoch 67/100\n",
            "2/2 [==============================] - 0s 69ms/step - loss: 0.5451 - accuracy: 0.7500 - val_loss: 0.6561 - val_accuracy: 0.6667\n",
            "Epoch 68/100\n",
            "2/2 [==============================] - 0s 91ms/step - loss: 0.5433 - accuracy: 0.7500 - val_loss: 0.6572 - val_accuracy: 0.6667\n",
            "Epoch 69/100\n",
            "2/2 [==============================] - 0s 106ms/step - loss: 0.5405 - accuracy: 0.7727 - val_loss: 0.6578 - val_accuracy: 0.5833\n",
            "Epoch 70/100\n",
            "2/2 [==============================] - 0s 88ms/step - loss: 0.5386 - accuracy: 0.7727 - val_loss: 0.6586 - val_accuracy: 0.5833\n",
            "Epoch 71/100\n",
            "2/2 [==============================] - 0s 135ms/step - loss: 0.5363 - accuracy: 0.7727 - val_loss: 0.6592 - val_accuracy: 0.6667\n",
            "Epoch 72/100\n",
            "2/2 [==============================] - 0s 68ms/step - loss: 0.5336 - accuracy: 0.7727 - val_loss: 0.6600 - val_accuracy: 0.6667\n",
            "Epoch 73/100\n",
            "2/2 [==============================] - 0s 67ms/step - loss: 0.5318 - accuracy: 0.7727 - val_loss: 0.6606 - val_accuracy: 0.6667\n",
            "Epoch 74/100\n",
            "2/2 [==============================] - 0s 92ms/step - loss: 0.5290 - accuracy: 0.7500 - val_loss: 0.6616 - val_accuracy: 0.6667\n",
            "Epoch 75/100\n",
            "2/2 [==============================] - 0s 74ms/step - loss: 0.5271 - accuracy: 0.7500 - val_loss: 0.6627 - val_accuracy: 0.6667\n",
            "Epoch 76/100\n",
            "2/2 [==============================] - 0s 66ms/step - loss: 0.5249 - accuracy: 0.7500 - val_loss: 0.6639 - val_accuracy: 0.6667\n",
            "Epoch 77/100\n",
            "2/2 [==============================] - 0s 163ms/step - loss: 0.5231 - accuracy: 0.7500 - val_loss: 0.6652 - val_accuracy: 0.6667\n",
            "Epoch 78/100\n",
            "2/2 [==============================] - 0s 77ms/step - loss: 0.5211 - accuracy: 0.7500 - val_loss: 0.6666 - val_accuracy: 0.6667\n",
            "Epoch 79/100\n",
            "2/2 [==============================] - 0s 124ms/step - loss: 0.5198 - accuracy: 0.7727 - val_loss: 0.6678 - val_accuracy: 0.6667\n",
            "Epoch 80/100\n",
            "2/2 [==============================] - 0s 115ms/step - loss: 0.5172 - accuracy: 0.7727 - val_loss: 0.6692 - val_accuracy: 0.6667\n",
            "Epoch 81/100\n",
            "2/2 [==============================] - 0s 76ms/step - loss: 0.5147 - accuracy: 0.7500 - val_loss: 0.6706 - val_accuracy: 0.5833\n",
            "Epoch 82/100\n",
            "2/2 [==============================] - 0s 64ms/step - loss: 0.5134 - accuracy: 0.7727 - val_loss: 0.6725 - val_accuracy: 0.5833\n",
            "Epoch 83/100\n",
            "2/2 [==============================] - 0s 68ms/step - loss: 0.5110 - accuracy: 0.7955 - val_loss: 0.6742 - val_accuracy: 0.5833\n",
            "Epoch 84/100\n",
            "2/2 [==============================] - 0s 188ms/step - loss: 0.5092 - accuracy: 0.7955 - val_loss: 0.6762 - val_accuracy: 0.5833\n",
            "Epoch 85/100\n",
            "2/2 [==============================] - 0s 78ms/step - loss: 0.5075 - accuracy: 0.7955 - val_loss: 0.6781 - val_accuracy: 0.5833\n",
            "Epoch 86/100\n",
            "2/2 [==============================] - 0s 79ms/step - loss: 0.5058 - accuracy: 0.7955 - val_loss: 0.6804 - val_accuracy: 0.5833\n",
            "Epoch 87/100\n",
            "2/2 [==============================] - 0s 87ms/step - loss: 0.5043 - accuracy: 0.7955 - val_loss: 0.6823 - val_accuracy: 0.5833\n",
            "Epoch 88/100\n",
            "2/2 [==============================] - 0s 103ms/step - loss: 0.5027 - accuracy: 0.7955 - val_loss: 0.6838 - val_accuracy: 0.5833\n",
            "Epoch 89/100\n",
            "2/2 [==============================] - 0s 101ms/step - loss: 0.5013 - accuracy: 0.7955 - val_loss: 0.6851 - val_accuracy: 0.5833\n",
            "Epoch 90/100\n",
            "2/2 [==============================] - 0s 99ms/step - loss: 0.4995 - accuracy: 0.7955 - val_loss: 0.6867 - val_accuracy: 0.5833\n",
            "Epoch 91/100\n",
            "2/2 [==============================] - 0s 63ms/step - loss: 0.4980 - accuracy: 0.7955 - val_loss: 0.6881 - val_accuracy: 0.5833\n",
            "Epoch 92/100\n",
            "2/2 [==============================] - 0s 102ms/step - loss: 0.4963 - accuracy: 0.7955 - val_loss: 0.6890 - val_accuracy: 0.5833\n",
            "Epoch 93/100\n",
            "2/2 [==============================] - 0s 105ms/step - loss: 0.4950 - accuracy: 0.7955 - val_loss: 0.6900 - val_accuracy: 0.5833\n",
            "Epoch 94/100\n",
            "2/2 [==============================] - 0s 109ms/step - loss: 0.4932 - accuracy: 0.7955 - val_loss: 0.6911 - val_accuracy: 0.5833\n",
            "Epoch 95/100\n",
            "2/2 [==============================] - 0s 104ms/step - loss: 0.4917 - accuracy: 0.7955 - val_loss: 0.6926 - val_accuracy: 0.5833\n",
            "Epoch 96/100\n",
            "2/2 [==============================] - 0s 99ms/step - loss: 0.4903 - accuracy: 0.7955 - val_loss: 0.6945 - val_accuracy: 0.5833\n",
            "Epoch 97/100\n",
            "2/2 [==============================] - 0s 65ms/step - loss: 0.4887 - accuracy: 0.7955 - val_loss: 0.6966 - val_accuracy: 0.5833\n",
            "Epoch 98/100\n",
            "2/2 [==============================] - 0s 209ms/step - loss: 0.4875 - accuracy: 0.7955 - val_loss: 0.6986 - val_accuracy: 0.5833\n",
            "Epoch 99/100\n",
            "2/2 [==============================] - 0s 62ms/step - loss: 0.4865 - accuracy: 0.7955 - val_loss: 0.7008 - val_accuracy: 0.5833\n",
            "Epoch 100/100\n",
            "2/2 [==============================] - 0s 80ms/step - loss: 0.4848 - accuracy: 0.7955 - val_loss: 0.7024 - val_accuracy: 0.5833\n"
          ]
        }
      ]
    },
    {
      "cell_type": "markdown",
      "source": [
        "Melakukan prediksi dan mengevaluasi model"
      ],
      "metadata": {
        "id": "lhFKqwmCRvNh"
      }
    },
    {
      "cell_type": "code",
      "source": [
        "y_pred=model.predict(X_normalized_test)\n",
        "y_pred =(y_pred>0.5).astype(int).reshape(-1,)\n",
        "y_pred"
      ],
      "metadata": {
        "colab": {
          "base_uri": "https://localhost:8080/"
        },
        "id": "nvI_rtWELi-B",
        "outputId": "e7032bcf-e5d1-4c23-aa0c-f4aeae9673eb"
      },
      "execution_count": null,
      "outputs": [
        {
          "output_type": "stream",
          "name": "stdout",
          "text": [
            "1/1 [==============================] - 0s 159ms/step\n"
          ]
        },
        {
          "output_type": "execute_result",
          "data": {
            "text/plain": [
              "array([0, 1, 1, 1, 1, 0, 0, 0, 0, 0, 0, 0, 1, 1])"
            ]
          },
          "metadata": {},
          "execution_count": 21
        }
      ]
    },
    {
      "cell_type": "code",
      "source": [
        "# accuracy: (tp + tn) / (p + n)\n",
        "accuracy = accuracy_score(y_test, y_pred)\n",
        "print('Accuracy: %f' % accuracy)\n",
        "# precision tp / (tp + fp)\n",
        "precision = precision_score(y_test, y_pred)\n",
        "print('Precision: %f' % precision)\n",
        "# recall: tp / (tp + fn)\n",
        "recall = recall_score(y_test, y_pred)\n",
        "print('Recall: %f' % recall)\n",
        "# f1: 2 tp / (2 tp + fp + fn)\n",
        "f1 = f1_score(y_test, y_pred)\n",
        "print('F1 score: %f' % f1)"
      ],
      "metadata": {
        "colab": {
          "base_uri": "https://localhost:8080/"
        },
        "id": "N8_V4WQRLlTJ",
        "outputId": "8ef30569-ef2f-4687-fb00-c13b7114048c"
      },
      "execution_count": null,
      "outputs": [
        {
          "output_type": "stream",
          "name": "stdout",
          "text": [
            "Accuracy: 0.714286\n",
            "Precision: 0.500000\n",
            "Recall: 0.750000\n",
            "F1 score: 0.600000\n"
          ]
        }
      ]
    },
    {
      "cell_type": "code",
      "source": [
        "confmat = confusion_matrix(y_true=y_test, y_pred=y_pred)\n"
      ],
      "metadata": {
        "id": "n-RIREBhlOiv"
      },
      "execution_count": null,
      "outputs": []
    },
    {
      "cell_type": "code",
      "source": [
        "fig, ax = plt.subplots(figsize=(2.5, 2.5))\n",
        "ax.matshow(confmat, cmap=plt.cm.Blues, alpha=0.3)\n",
        "for i in range(confmat.shape[0]):\n",
        "    for j in range(confmat.shape[1]):\n",
        "        ax.text(x=j, y=i, s=confmat[i, j], va='center', ha='center')\n",
        "\n",
        "plt.xlabel('Predicted label')\n",
        "plt.ylabel('True label')\n",
        "\n",
        "plt.tight_layout()\n",
        "plt.show()"
      ],
      "metadata": {
        "colab": {
          "base_uri": "https://localhost:8080/",
          "height": 257
        },
        "id": "Xq9FLTMplGiA",
        "outputId": "d6b8deee-d602-4c84-cef2-4b9dd6b1746f"
      },
      "execution_count": null,
      "outputs": [
        {
          "output_type": "display_data",
          "data": {
            "text/plain": [
              "<Figure size 250x250 with 1 Axes>"
            ],
            "image/png": "[encoded data removed]"
          },
          "metadata": {}
        }
      ]
    },
    {
      "cell_type": "code",
      "source": [
        "plt.plot(hasil_model.history['loss'],label='loss')\n",
        "plt.plot(hasil_model.history['val_loss'],label='val_loss')\n",
        "plt.title('Grafik Error')\n",
        "plt.xlabel('Epoch')\n",
        "plt.ylabel('Binary crossentropy')\n",
        "plt.legend()\n",
        "plt.grid(True)\n",
        "plt.show()"
      ],
      "metadata": {
        "colab": {
          "base_uri": "https://localhost:8080/",
          "height": 472
        },
        "id": "bue16X8rMBbq",
        "outputId": "9dcdf875-dd85-404a-cd9c-069c4d257eac"
      },
      "execution_count": null,
      "outputs": [
        {
          "output_type": "display_data",
          "data": {
            "text/plain": [
              "<Figure size 640x480 with 1 Axes>"
            ],
            "image/png": "[encoded data removed]"
          },
          "metadata": {}
        }
      ]
    },
    {
      "cell_type": "code",
      "source": [
        "plt.plot(hasil_model.history['accuracy'],label='akurasi')\n",
        "plt.plot(hasil_model.history['val_accuracy'],label='val_akurasi')\n",
        "plt.title('Grafik Akurasi')\n",
        "plt.xlabel('Epoch')\n",
        "plt.ylabel('accuracy')\n",
        "plt.legend()\n",
        "plt.grid(True)\n",
        "plt.show()"
      ],
      "metadata": {
        "colab": {
          "base_uri": "https://localhost:8080/",
          "height": 472
        },
        "id": "qtTq0QOAMLGc",
        "outputId": "01d8d81b-d10b-404a-afd4-8323b40bec8e"
      },
      "execution_count": null,
      "outputs": [
        {
          "output_type": "display_data",
          "data": {
            "text/plain": [
              "<Figure size 640x480 with 1 Axes>"
            ],
            "image/png": "[encoded data removed]"
          },
          "metadata": {}
        }
      ]
    },
    {
      "cell_type": "markdown",
      "source": [
        "Membuat model yang akan digunakan buat hyperparameter"
      ],
      "metadata": {
        "id": "v_k4WYBwR25P"
      }
    },
    {
      "cell_type": "code",
      "source": [
        "\n",
        "def build_clf():\n",
        "  # creating the layers of the NN\n",
        "  model = tf.keras.Sequential([\n",
        "        tf.keras.layers.InputLayer(input_shape=(10,)),\n",
        "        tf.keras.layers.Dense(20,activation='relu'),\n",
        "        tf.keras.layers.Dense(20,activation='relu'),\n",
        "        tf.keras.layers.Dense(1,activation='sigmoid')\n",
        "    ]\n",
        "    )\n",
        "  model.compile(optimizer=tf.keras.optimizers.Adam(0.001),loss=tf.keras.losses.BinaryCrossentropy(),metrics=['accuracy'])\n",
        "  return model"
      ],
      "metadata": {
        "id": "nQ66ht6xi3LO"
      },
      "execution_count": null,
      "outputs": []
    },
    {
      "cell_type": "code",
      "source": [
        "\n",
        "Search=KerasClassifier(build_fn=build_clf,verbose=0)"
      ],
      "metadata": {
        "id": "0tfmqP1OWgkt"
      },
      "execution_count": null,
      "outputs": []
    },
    {
      "cell_type": "markdown",
      "source": [
        "kondisi yang digunakan untuk menentukan paramteter optimal adalah banyaknya iterasi model dan besarnya batch"
      ],
      "metadata": {
        "id": "Wew4tW2HSAz3"
      }
    },
    {
      "cell_type": "code",
      "source": [
        "\n",
        "param_grid = {\n",
        "              'batch_size': [10, 20, 30,40,50],\n",
        "              'epochs': [ 200, 300,400]\n",
        "              }\n",
        "grid = GridSearchCV(estimator=Search, param_grid=param_grid,n_jobs=-1, scoring='accuracy', cv=2)\n",
        "grid_result = grid.fit(X_normalized_train, y_train)"
      ],
      "metadata": {
        "colab": {
          "base_uri": "https://localhost:8080/"
        },
        "id": "W1MV1rtIpd6u",
        "outputId": "b745d60a-00a5-4a5e-d8ca-c6f6f69132a1"
      },
      "execution_count": null,
      "outputs": [
        {
          "output_type": "stream",
          "name": "stderr",
          "text": [
            "/usr/local/lib/python3.10/dist-packages/scikeras/wrappers.py:915: UserWarning: ``build_fn`` will be renamed to ``model`` in a future release, at which point use of ``build_fn`` will raise an Error instead.\n",
            "  X, y = self._initialize(X, y)\n"
          ]
        }
      ]
    },
    {
      "cell_type": "code",
      "source": [
        "pred_grid = grid.predict(X_normalized_test)"
      ],
      "metadata": {
        "id": "13wyTmVshRbz"
      },
      "execution_count": null,
      "outputs": []
    },
    {
      "cell_type": "code",
      "source": [
        "pred_grid =(pred_grid>0.5).astype(int).reshape(-1,)\n",
        "pred_grid"
      ],
      "metadata": {
        "colab": {
          "base_uri": "https://localhost:8080/"
        },
        "id": "cXHCTt-PhdEA",
        "outputId": "906330b6-715f-432e-d6d0-f31fd76fd765"
      },
      "execution_count": null,
      "outputs": [
        {
          "output_type": "execute_result",
          "data": {
            "text/plain": [
              "array([0, 1, 1, 1, 1, 0, 0, 1, 1, 0, 1, 0, 1, 1])"
            ]
          },
          "metadata": {},
          "execution_count": 44
        }
      ]
    },
    {
      "cell_type": "code",
      "source": [
        "# accuracy: (tp + tn) / (p + n)\n",
        "accuracy = accuracy_score(y_test, pred_grid)\n",
        "print('Accuracy: %f' % accuracy)\n",
        "# precision tp / (tp + fp)\n",
        "precision = precision_score(y_test, pred_grid)\n",
        "print('Precision: %f' % precision)\n",
        "# recall: tp / (tp + fn)\n",
        "recall = recall_score(y_test, pred_grid)\n",
        "print('Recall: %f' % recall)\n",
        "# f1: 2 tp / (2 tp + fp + fn)\n",
        "f1 = f1_score(y_test, pred_grid)\n",
        "print('F1 score: %f' % f1)"
      ],
      "metadata": {
        "colab": {
          "base_uri": "https://localhost:8080/"
        },
        "id": "eB6quLIEhfc3",
        "outputId": "9f59e4a4-a69c-416d-f594-258e14d934c0"
      },
      "execution_count": null,
      "outputs": [
        {
          "output_type": "stream",
          "name": "stdout",
          "text": [
            "Accuracy: 0.642857\n",
            "Precision: 0.444444\n",
            "Recall: 1.000000\n",
            "F1 score: 0.615385\n"
          ]
        }
      ]
    },
    {
      "cell_type": "code",
      "source": [
        "confmat = confusion_matrix(y_true=y_test, y_pred=pred_grid)\n",
        "fig, ax = plt.subplots(figsize=(2.5, 2.5))\n",
        "ax.matshow(confmat, cmap=plt.cm.Blues, alpha=0.3)\n",
        "for i in range(confmat.shape[0]):\n",
        "    for j in range(confmat.shape[1]):\n",
        "        ax.text(x=j, y=i, s=confmat[i, j], va='center', ha='center')\n",
        "\n",
        "plt.xlabel('Predicted label')\n",
        "plt.ylabel('True label')\n",
        "\n",
        "plt.tight_layout()\n",
        "plt.show()"
      ],
      "metadata": {
        "colab": {
          "base_uri": "https://localhost:8080/",
          "height": 257
        },
        "id": "IDpFwyYohnHv",
        "outputId": "1cc824d5-e1b7-4cfe-d339-4e8231794746"
      },
      "execution_count": null,
      "outputs": [
        {
          "output_type": "display_data",
          "data": {
            "text/plain": [
              "<Figure size 250x250 with 1 Axes>"
            ],
            "image/png": "[encoded data removed]"
          },
          "metadata": {}
        }
      ]
    },
    {
      "cell_type": "code",
      "source": [
        "\n",
        "best_params_grid=grid_result.best_params_\n",
        "accuracy_grid=grid_result.best_score_"
      ],
      "metadata": {
        "id": "LfsqhNcyjiat"
      },
      "execution_count": null,
      "outputs": []
    },
    {
      "cell_type": "code",
      "source": [
        "print('params:',best_params_grid)\n",
        "print('new accuracy:',accuracy_grid)"
      ],
      "metadata": {
        "colab": {
          "base_uri": "https://localhost:8080/"
        },
        "id": "Utxm1_VkjlUc",
        "outputId": "549409cb-8827-4d61-8c71-9b16bd9feffe"
      },
      "execution_count": null,
      "outputs": [
        {
          "output_type": "stream",
          "name": "stdout",
          "text": [
            "params: {'batch_size': 20, 'epochs': 400}\n",
            "new accuracy: 0.6607142857142858\n"
          ]
        }
      ]
    },
    {
      "cell_type": "code",
      "source": [
        "cv_Rand = RepeatedStratifiedKFold(n_splits=10, n_repeats=3, random_state=1)"
      ],
      "metadata": {
        "id": "U1EVjjMj0Csv"
      },
      "execution_count": null,
      "outputs": []
    },
    {
      "cell_type": "code",
      "source": [
        "Search_Rand=KerasClassifier(build_fn=build_clf,verbose=0)"
      ],
      "metadata": {
        "id": "NNM6Qbch4KQ8"
      },
      "execution_count": null,
      "outputs": []
    },
    {
      "cell_type": "code",
      "source": [
        "\n",
        "\n",
        "search = RandomizedSearchCV(Search_Rand, param_grid, n_iter=2, cv=cv_Rand, random_state=1,verbose=20)\n",
        "result = search.fit(X_normalized_train, y_train)"
      ],
      "metadata": {
        "id": "IzHnxewK2gGX"
      },
      "execution_count": null,
      "outputs": []
    },
    {
      "cell_type": "code",
      "source": [
        "pred_rand = search.predict(X_normalized_test)"
      ],
      "metadata": {
        "id": "m8ZIb_PRfexI"
      },
      "execution_count": null,
      "outputs": []
    },
    {
      "cell_type": "code",
      "source": [
        "pred_rand =(pred_rand>0.5).astype(int).reshape(-1,)\n",
        "pred_rand"
      ],
      "metadata": {
        "colab": {
          "base_uri": "https://localhost:8080/"
        },
        "id": "mrKS3FpLf62o",
        "outputId": "69824c7d-6a95-4cd2-9586-82424a68a79e"
      },
      "execution_count": null,
      "outputs": [
        {
          "output_type": "execute_result",
          "data": {
            "text/plain": [
              "array([0, 1, 1, 1, 1, 0, 0, 0, 0, 0, 1, 0, 1, 1])"
            ]
          },
          "metadata": {},
          "execution_count": 38
        }
      ]
    },
    {
      "cell_type": "code",
      "source": [
        "# accuracy: (tp + tn) / (p + n)\n",
        "accuracy = accuracy_score(y_test, pred_rand)\n",
        "print('Accuracy: %f' % accuracy)\n",
        "# precision tp / (tp + fp)\n",
        "precision = precision_score(y_test, pred_rand)\n",
        "print('Precision: %f' % precision)\n",
        "# recall: tp / (tp + fn)\n",
        "recall = recall_score(y_test, pred_rand)\n",
        "print('Recall: %f' % recall)\n",
        "# f1: 2 tp / (2 tp + fp + fn)\n",
        "f1 = f1_score(y_test, pred_rand)\n",
        "print('F1 score: %f' % f1)"
      ],
      "metadata": {
        "colab": {
          "base_uri": "https://localhost:8080/"
        },
        "id": "TJiubuAHgBL5",
        "outputId": "1a3ad091-1cb4-413a-ab4e-0342f65f130d"
      },
      "execution_count": null,
      "outputs": [
        {
          "output_type": "stream",
          "name": "stdout",
          "text": [
            "Accuracy: 0.642857\n",
            "Precision: 0.428571\n",
            "Recall: 0.750000\n",
            "F1 score: 0.545455\n"
          ]
        }
      ]
    },
    {
      "cell_type": "code",
      "source": [
        "confmat = confusion_matrix(y_true=y_test, y_pred=pred_rand)\n",
        "fig, ax = plt.subplots(figsize=(2.5, 2.5))\n",
        "ax.matshow(confmat, cmap=plt.cm.Blues, alpha=0.3)\n",
        "for i in range(confmat.shape[0]):\n",
        "    for j in range(confmat.shape[1]):\n",
        "        ax.text(x=j, y=i, s=confmat[i, j], va='center', ha='center')\n",
        "\n",
        "plt.xlabel('Predicted label')\n",
        "plt.ylabel('True label')\n",
        "\n",
        "plt.tight_layout()\n",
        "plt.show()"
      ],
      "metadata": {
        "id": "KXk2PUppGWbm",
        "colab": {
          "base_uri": "https://localhost:8080/",
          "height": 257
        },
        "outputId": "f429eff1-b705-4d7d-e80f-a7bc5809ab30"
      },
      "execution_count": null,
      "outputs": [
        {
          "output_type": "display_data",
          "data": {
            "text/plain": [
              "<Figure size 250x250 with 1 Axes>"
            ],
            "image/png": "[encoded data removed]"
          },
          "metadata": {}
        }
      ]
    },
    {
      "cell_type": "markdown",
      "source": [
        "Kesimpulan<br>\n",
        "model yang digunakan adalah model 3 layer MLP dari model tersebut menghasilkan akurasi yang bersekitar 70 persent. setelah dilakukan hyperparameter tuning menggunakan grid search dan random search dimana grid search mencari kombinasi parameter yang membantu mengembangkan model dan randomsearch melakukan hal yang sama hanya melalui randomisasi. hasil akurasi mereka menurun menjadi  sekitar 65 persent. alasan lebih kecil dari pada model pertama itu karena ada beberapa data pada model pertama mengalami overfitting, dengan hyperparameter data itu bisa dihapus untuk meningkatkan performa model meskipun mengurangi akurasi pada model."
      ],
      "metadata": {
        "id": "SEDa_LhBPmWn"
      }
    }
  ]
}